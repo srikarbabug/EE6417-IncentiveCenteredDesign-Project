{
 "cells": [
  {
   "cell_type": "code",
   "execution_count": 1,
   "id": "fc8e06dc",
   "metadata": {},
   "outputs": [],
   "source": [
    "import numpy as np\n",
    "import itertools\n",
    "import random\n",
    "from collections import defaultdict\n",
    "\n",
    "# all mixed strategies on the simplex for 3 actions\n",
    "def generate_simplex_grid(step=0.1):\n",
    "    points = []\n",
    "    n = int(1 / step)\n",
    "    for i in range(n + 1):\n",
    "        for j in range(n + 1 - i):\n",
    "            k = n - i - j\n",
    "            p = np.array([i, j, k]) * step\n",
    "            if np.isclose(np.sum(p), 1.0):\n",
    "                points.append(p)\n",
    "    return points\n",
    "\n",
    "# select a random point from the grid based on the mixed strategy\n",
    "def randomized_rounding(p, grid):\n",
    "    dists = np.array([np.linalg.norm(p - g) for g in grid])\n",
    "    min_dist = np.min(dists)\n",
    "    closest = [grid[i] for i, d in enumerate(dists) if np.isclose(d, min_dist)]\n",
    "    return random.choice(closest)\n",
    "\n",
    "# best response function for a player given the opponent's strategy\n",
    "def best_response(opponent_strategy, payoff_matrix):\n",
    "    expected_payoffs = payoff_matrix @ opponent_strategy\n",
    "    best_actions = np.argwhere(expected_payoffs == np.max(expected_payoffs)).flatten()\n",
    "    return np.random.choice(best_actions)\n",
    "\n",
    "# one-hot vector\n",
    "def one_hot(a, num_actions=3):\n",
    "    v = np.zeros(num_actions)\n",
    "    v[a] = 1\n",
    "    return v\n",
    "\n",
    "# running the simulation of Rock-Paper-Scissors\n",
    "def simulate_rps(num_rounds, step=0.1):\n",
    "    grid = generate_simplex_grid(step)\n",
    "    K = len(grid)\n",
    "\n",
    "    num_actions = 3\n",
    "    payoff_1 = np.array([[0, -1, 1], [1, 0, -1], [-1, 1, 0]])\n",
    "    payoff_2 = -payoff_1\n",
    "\n",
    "    calibration_1 = defaultdict(lambda: np.zeros(num_actions))\n",
    "    calibration_2 = defaultdict(lambda: np.zeros(num_actions))\n",
    "\n",
    "    empirical_play_1 = []\n",
    "    empirical_play_2 = []\n",
    "\n",
    "    for t in range(1, num_rounds + 1):\n",
    "        forecast_1 = np.mean([v for v in calibration_2.values()], axis=0) if calibration_2 else np.array([1/3, 1/3, 1/3])\n",
    "        forecast_2 = np.mean([v for v in calibration_1.values()], axis=0) if calibration_1 else np.array([1/3, 1/3, 1/3])\n",
    "\n",
    "        rounded_forecast_1 = randomized_rounding(forecast_1, grid)\n",
    "        rounded_forecast_2 = randomized_rounding(forecast_2, grid)\n",
    "\n",
    "        a1 = best_response(rounded_forecast_2, payoff_1)\n",
    "        a2 = best_response(rounded_forecast_1, payoff_2)\n",
    "\n",
    "        calibration_1[tuple(rounded_forecast_1)] += one_hot(a1) - rounded_forecast_1\n",
    "        calibration_2[tuple(rounded_forecast_2)] += one_hot(a2) - rounded_forecast_2\n",
    "\n",
    "        empirical_play_1.append(one_hot(a1))\n",
    "        empirical_play_2.append(one_hot(a2))\n",
    "\n",
    "    avg_strategy_1 = np.mean(empirical_play_1, axis=0)\n",
    "    avg_strategy_2 = np.mean(empirical_play_2, axis=0)\n",
    "\n",
    "    return avg_strategy_1, avg_strategy_2\n"
   ]
  },
  {
   "cell_type": "code",
   "execution_count": 2,
   "id": "15cb054c",
   "metadata": {},
   "outputs": [
    {
     "name": "stdout",
     "output_type": "stream",
     "text": [
      "Empirical strategy of Player 1: [0.3333 0.3333 0.3334]\n",
      "Empirical strategy of Player 2: [0.3334 0.3333 0.3333]\n"
     ]
    }
   ],
   "source": [
    "avg_1, avg_2 = simulate_rps(num_rounds=20000, step=0.1)\n",
    "print(\"Empirical strategy of Player 1:\", avg_1)\n",
    "print(\"Empirical strategy of Player 2:\", avg_2)"
   ]
  }
 ],
 "metadata": {
  "kernelspec": {
   "display_name": "FODL",
   "language": "python",
   "name": "python3"
  },
  "language_info": {
   "codemirror_mode": {
    "name": "ipython",
    "version": 3
   },
   "file_extension": ".py",
   "mimetype": "text/x-python",
   "name": "python",
   "nbconvert_exporter": "python",
   "pygments_lexer": "ipython3",
   "version": "3.9.0"
  }
 },
 "nbformat": 4,
 "nbformat_minor": 5
}
